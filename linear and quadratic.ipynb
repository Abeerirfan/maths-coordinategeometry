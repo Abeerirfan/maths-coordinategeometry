{
 "cells": [
  {
   "cell_type": "markdown",
   "metadata": {
    "slideshow": {
     "slide_type": "slide"
    }
   },
   "source": [
    "Sketch the line $$y=2x-5$$"
   ]
  },
  {
   "cell_type": "markdown",
   "metadata": {
    "slideshow": {
     "slide_type": "fragment"
    }
   },
   "source": [
    "On the same axes, sketch the curve $$y=x^2+2x-3$$"
   ]
  },
  {
   "cell_type": "markdown",
   "metadata": {
    "slideshow": {
     "slide_type": "fragment"
    }
   },
   "source": [
    "Do your line and your curve intersect?\n",
    "\n",
    "How certain are you on a scale of <img alt=\"confused\" style=\"display: inline-block; vertical-align: middle\" src=\"https://cdn0.iconfinder.com/data/icons/smile-emoticons/78/Emoticons_smile_smiley-03-48.png\"/> to <img alt=\"confident\" style=\"display: inline-block; vertical-align: middle\" src=\"https://cdn0.iconfinder.com/data/icons/smile-emoticons/78/smyle_emoticons-07-48.png\"/>?"
   ]
  }
 ],
 "metadata": {
  "celltoolbar": "Slideshow",
  "kernelspec": {
   "display_name": "Python 3",
   "language": "python",
   "name": "python3"
  },
  "language_info": {
   "codemirror_mode": {
    "name": "ipython",
    "version": 3
   },
   "file_extension": ".py",
   "mimetype": "text/x-python",
   "name": "python",
   "nbconvert_exporter": "python",
   "pygments_lexer": "ipython3",
   "version": "3.5.2"
  }
 },
 "nbformat": 4,
 "nbformat_minor": 2
}
